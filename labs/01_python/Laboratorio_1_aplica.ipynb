{
 "cells": [
  {
   "cell_type": "code",
   "execution_count": 1,
   "metadata": {},
   "outputs": [],
   "source": [
    "#Calcular pi\n",
    "def calcular_pi(n:int)->float:\n",
    "    i=1\n",
    "    pi=0\n",
    "    while i<=n:\n",
    "        numerador=(-1)**(i+1)\n",
    "        denominador=2*i-1\n",
    "        pi=pi+(numerador/denominador)\n",
    "        i=i+1\n",
    "\n",
    "    print (4*pi)\n"
   ]
  },
  {
   "cell_type": "code",
   "execution_count": 2,
   "metadata": {},
   "outputs": [],
   "source": [
    "#calcular e\n",
    "def calcular_e(n:int)->float:\n",
    "    \n",
    "    fact=1\n",
    "    i=1\n",
    "    e=1\n",
    "    while i<=(n-1):\n",
    "        fact=fact*i\n",
    "        e=e+(1/fact)\n",
    "        i=i+1\n",
    "    \n",
    "    print(e)\n",
    "    "
   ]
  },
  {
   "cell_type": "code",
   "execution_count": 3,
   "metadata": {},
   "outputs": [],
   "source": [
    "#problema 2\n",
    "def amigos(n1:int,n2:int):\n",
    "    i=1\n",
    "    j=1\n",
    "    suma_1=0\n",
    "    suma_2=0\n",
    "    while i<=n1-1:\n",
    "        div=n1%i\n",
    "        if div==0:\n",
    "            suma_1=suma_1+i\n",
    "        i=i+1\n",
    "    while j<=n2-1:\n",
    "        div=n2%j\n",
    "        if div==0:\n",
    "            suma_2=suma_2+j\n",
    "        j=j+1\n",
    "    if suma_1==n2 and suma_2==n1:\n",
    "        print (True)\n",
    "    else:\n",
    "        print (False)\n"
   ]
  },
  {
   "cell_type": "code",
   "execution_count": 4,
   "metadata": {},
   "outputs": [],
   "source": [
    "#problema 3\n",
    "def collatz(n:int)->list:\n",
    "    lista=[]\n",
    "    while n!=1:\n",
    "        if n%2==0:\n",
    "            n=n/2\n",
    "            lista.append(int(n))\n",
    "        else:\n",
    "            n=3*n+1\n",
    "            lista.append(int(n))\n",
    "    print (lista)\n",
    "    "
   ]
  },
  {
   "cell_type": "code",
   "execution_count": 5,
   "metadata": {},
   "outputs": [],
   "source": [
    "#problema 4\n",
    "def numero_primo(n:int):\n",
    "    if n<2:\n",
    "        return False\n",
    "    else:\n",
    "        for i in range(2,n):\n",
    "            if n%i == 0:\n",
    "                return False  \n",
    "        return True\n"
   ]
  },
  {
   "cell_type": "code",
   "execution_count": 9,
   "metadata": {},
   "outputs": [],
   "source": [
    "def goldbash(n:int):\n",
    "    i=1\n",
    "    lista=[]\n",
    "    sol=[]\n",
    "    while i<=n:\n",
    "        if numero_primo(i)==True:\n",
    "            lista.append(i)\n",
    "        i+=1\n",
    "    for i in range(0,len(lista)):\n",
    "        if 2*lista[i]==n:\n",
    "            sol.append((lista[i],lista[i]))\n",
    "        else:\n",
    "            j=i+1\n",
    "            while j<len(lista):\n",
    "                if lista[i]+lista[j]==n:\n",
    "                    sol.append((lista[i],lista[j]))\n",
    "                j=j+1\n",
    "    print(sol[0])\n",
    "            "
   ]
  },
  {
   "cell_type": "code",
   "execution_count": 13,
   "metadata": {},
   "outputs": [
    {
     "name": "stdout",
     "output_type": "stream",
     "text": [
      "(3, 17)\n"
     ]
    }
   ],
   "source": []
  }
 ],
 "metadata": {
  "kernelspec": {
   "display_name": "Python 3",
   "language": "python",
   "name": "python3"
  },
  "language_info": {
   "codemirror_mode": {
    "name": "ipython",
    "version": 3
   },
   "file_extension": ".py",
   "mimetype": "text/x-python",
   "name": "python",
   "nbconvert_exporter": "python",
   "pygments_lexer": "ipython3",
   "version": "3.8.3"
  }
 },
 "nbformat": 4,
 "nbformat_minor": 4
}
