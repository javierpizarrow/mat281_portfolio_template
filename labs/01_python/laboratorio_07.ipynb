{
 "cells": [
  {
   "cell_type": "markdown",
   "metadata": {},
   "source": [
    "<img src=\"images/usm.jpg\" width=\"480\" height=\"240\" align=\"left\"/>"
   ]
  },
  {
   "cell_type": "markdown",
   "metadata": {},
   "source": [
    "# MAT281 - Laboratorios N°01\n",
    "\n",
    "## Objetivos del laboratorio\n",
    "\n",
    "* Reforzar conceptos básicos de regresión lineal."
   ]
  },
  {
   "cell_type": "markdown",
   "metadata": {},
   "source": [
    "## Contenidos\n",
    "\n",
    "* [Problema 01](#p1)\n"
   ]
  },
  {
   "cell_type": "markdown",
   "metadata": {},
   "source": [
    "<a id='p1'></a>\n",
    "## I.- Problema 01\n",
    "\n",
    "\n",
    "<img src=\"https://upload.wikimedia.org/wikipedia/commons/thumb/b/b6/Anscombe.svg/1200px-Anscombe.svg.png\" width=\"360\" height=\"360\" align=\"center\"/>\n",
    "\n"
   ]
  },
  {
   "cell_type": "markdown",
   "metadata": {},
   "source": [
    "El **cuarteto de Anscombe** comprende cuatro conjuntos de datos que tienen las mismas propiedades estadísticas, pero que evidentemente son distintas al inspeccionar sus gráficos respectivos.\n",
    "\n",
    "Cada conjunto consiste de once puntos (x, y) y fueron construidos por el estadístico F. J. Anscombe. El cuarteto es una demostración de la importancia de mirar gráficamente un conjunto de datos antes de analizarlos."
   ]
  },
  {
   "cell_type": "code",
   "execution_count": 1,
   "metadata": {},
   "outputs": [],
   "source": [
    "import os\n",
    "import numpy as np\n",
    "import pandas as pd\n",
    "import matplotlib.pyplot as plt\n",
    "import seaborn as sns\n",
    "\n",
    "%matplotlib inline\n",
    "sns.set_palette(\"deep\", desat=.6)\n",
    "sns.set(rc={'figure.figsize':(11.7,8.27)})"
   ]
  },
  {
   "cell_type": "code",
   "execution_count": 2,
   "metadata": {},
   "outputs": [
    {
     "data": {
      "text/html": [
       "<div>\n",
       "<style scoped>\n",
       "    .dataframe tbody tr th:only-of-type {\n",
       "        vertical-align: middle;\n",
       "    }\n",
       "\n",
       "    .dataframe tbody tr th {\n",
       "        vertical-align: top;\n",
       "    }\n",
       "\n",
       "    .dataframe thead th {\n",
       "        text-align: right;\n",
       "    }\n",
       "</style>\n",
       "<table border=\"1\" class=\"dataframe\">\n",
       "  <thead>\n",
       "    <tr style=\"text-align: right;\">\n",
       "      <th></th>\n",
       "      <th>x</th>\n",
       "      <th>y</th>\n",
       "      <th>grupo</th>\n",
       "    </tr>\n",
       "  </thead>\n",
       "  <tbody>\n",
       "    <tr>\n",
       "      <th>0</th>\n",
       "      <td>10</td>\n",
       "      <td>8.04</td>\n",
       "      <td>Grupo_1</td>\n",
       "    </tr>\n",
       "    <tr>\n",
       "      <th>1</th>\n",
       "      <td>8</td>\n",
       "      <td>6.95</td>\n",
       "      <td>Grupo_1</td>\n",
       "    </tr>\n",
       "    <tr>\n",
       "      <th>2</th>\n",
       "      <td>13</td>\n",
       "      <td>7.58</td>\n",
       "      <td>Grupo_1</td>\n",
       "    </tr>\n",
       "    <tr>\n",
       "      <th>3</th>\n",
       "      <td>9</td>\n",
       "      <td>8.81</td>\n",
       "      <td>Grupo_1</td>\n",
       "    </tr>\n",
       "    <tr>\n",
       "      <th>4</th>\n",
       "      <td>11</td>\n",
       "      <td>8.33</td>\n",
       "      <td>Grupo_1</td>\n",
       "    </tr>\n",
       "  </tbody>\n",
       "</table>\n",
       "</div>"
      ],
      "text/plain": [
       "    x     y    grupo\n",
       "0  10  8.04  Grupo_1\n",
       "1   8  6.95  Grupo_1\n",
       "2  13  7.58  Grupo_1\n",
       "3   9  8.81  Grupo_1\n",
       "4  11  8.33  Grupo_1"
      ]
     },
     "execution_count": 2,
     "metadata": {},
     "output_type": "execute_result"
    }
   ],
   "source": [
    "# cargar datos\n",
    "df = pd.read_csv(os.path.join(\"data\",\"anscombe.csv\"), sep=\",\")\n",
    "df.head()"
   ]
  },
  {
   "cell_type": "markdown",
   "metadata": {},
   "source": [
    "Basado en la información presentada responda las siguientes preguntas:\n",
    "\n",
    "1. Gráfique mediante un gráfico tipo **scatter** cada grupo. A simple vista, ¿ los grupos son muy distintos entre si?.\n",
    "2. Realice un resumen de las medidas estadísticas más significativas ocuapando el comando **describe** para cada grupo. Interprete.\n",
    "3. Realice un ajuste lineal para cada grupo. Además, grafique los resultados de la regresión lineal para cada grupo. Interprete.\n",
    "4. Calcule los resultados de las métricas para cada grupo. Interprete.\n",
    "5. Es claro que el ajuste lineal para algunos grupos no es el correcto. Existen varias formas de solucionar este problema (eliminar outliers, otros modelos, etc.). Identifique una estrategia para que el modelo de regresión lineal ajuste de mejor manera e implemente otros modelos en los casos que encuentre necesario.  "
   ]
  },
  {
   "cell_type": "markdown",
   "metadata": {},
   "source": [
    "Pregunta 1"
   ]
  },
  {
   "cell_type": "code",
   "execution_count": 3,
   "metadata": {},
   "outputs": [
    {
     "data": {
      "text/plain": [
       "<AxesSubplot:>"
      ]
     },
     "execution_count": 3,
     "metadata": {},
     "output_type": "execute_result"
    },
    {
     "data": {
      "image/png": "[encoded data removed]",
      "text/plain": [
       "<Figure size 842.4x595.44 with 1 Axes>"
      ]
     },
     "metadata": {},
     "output_type": "display_data"
    }
   ],
   "source": [
    "lx1=[]\n",
    "ly1=[]\n",
    "for i in range(len(df.grupo)):\n",
    "    if df['grupo'][i]== 'Grupo_1':\n",
    "        lx1.append(df['x'][i])\n",
    "        ly1.append(df['y'][i])\n",
    "sns.scatterplot(x=lx1, y=ly1)\n"
   ]
  },
  {
   "cell_type": "code",
   "execution_count": 4,
   "metadata": {},
   "outputs": [
    {
     "data": {
      "text/plain": [
       "<AxesSubplot:>"
      ]
     },
     "execution_count": 4,
     "metadata": {},
     "output_type": "execute_result"
    },
    {
     "data": {
      "image/png": "[encoded data removed]",
      "text/plain": [
       "<Figure size 842.4x595.44 with 1 Axes>"
      ]
     },
     "metadata": {},
     "output_type": "display_data"
    }
   ],
   "source": [
    "lx2=[]\n",
    "ly2=[]\n",
    "for i in range(len(df.grupo)):\n",
    "    if df['grupo'][i]== 'Grupo_2':\n",
    "        lx2.append(df['x'][i])\n",
    "        ly2.append(df['y'][i])\n",
    "sns.scatterplot(x=lx2, y=ly2)"
   ]
  },
  {
   "cell_type": "code",
   "execution_count": 5,
   "metadata": {},
   "outputs": [
    {
     "data": {
      "text/plain": [
       "<AxesSubplot:>"
      ]
     },
     "execution_count": 5,
     "metadata": {},
     "output_type": "execute_result"
    },
    {
     "data": {
      "image/png": "[encoded data removed]",
      "text/plain": [
       "<Figure size 842.4x595.44 with 1 Axes>"
      ]
     },
     "metadata": {},
     "output_type": "display_data"
    }
   ],
   "source": [
    "lx3=[]\n",
    "ly3=[]\n",
    "for i in range(len(df.grupo)):\n",
    "    if df['grupo'][i]== 'Grupo_3':\n",
    "        lx3.append(df['x'][i])\n",
    "        ly3.append(df['y'][i])\n",
    "sns.scatterplot(x=lx3, y=ly3)"
   ]
  },
  {
   "cell_type": "code",
   "execution_count": 6,
   "metadata": {},
   "outputs": [
    {
     "data": {
      "text/plain": [
       "<AxesSubplot:>"
      ]
     },
     "execution_count": 6,
     "metadata": {},
     "output_type": "execute_result"
    },
    {
     "data": {
      "image/png": "[encoded data removed]",
      "text/plain": [
       "<Figure size 842.4x595.44 with 1 Axes>"
      ]
     },
     "metadata": {},
     "output_type": "display_data"
    }
   ],
   "source": [
    "lx4=[]\n",
    "ly4=[]       \n",
    "for i in range(len(df.grupo)):\n",
    "    if df['grupo'][i]== 'Grupo_4':\n",
    "        lx4.append(df['x'][i])\n",
    "        ly4.append(df['y'][i])\n",
    "sns.scatterplot(x=lx4, y=ly4)"
   ]
  },
  {
   "cell_type": "markdown",
   "metadata": {},
   "source": [
    "Los gráficos tienen distintos tipos de dispersión entre sus datos, 1,3 y 4 con tendencia lineal y 2 con datos distribuidos similarmente a una función cuadrada."
   ]
  },
  {
   "cell_type": "markdown",
   "metadata": {},
   "source": [
    "Pregunta 2"
   ]
  },
  {
   "cell_type": "code",
   "execution_count": 7,
   "metadata": {},
   "outputs": [
    {
     "data": {
      "text/html": [
       "<div>\n",
       "<style scoped>\n",
       "    .dataframe tbody tr th:only-of-type {\n",
       "        vertical-align: middle;\n",
       "    }\n",
       "\n",
       "    .dataframe tbody tr th {\n",
       "        vertical-align: top;\n",
       "    }\n",
       "\n",
       "    .dataframe thead th {\n",
       "        text-align: right;\n",
       "    }\n",
       "</style>\n",
       "<table border=\"1\" class=\"dataframe\">\n",
       "  <thead>\n",
       "    <tr style=\"text-align: right;\">\n",
       "      <th></th>\n",
       "      <th>x</th>\n",
       "      <th>y</th>\n",
       "    </tr>\n",
       "  </thead>\n",
       "  <tbody>\n",
       "    <tr>\n",
       "      <th>count</th>\n",
       "      <td>11.000000</td>\n",
       "      <td>11.000000</td>\n",
       "    </tr>\n",
       "    <tr>\n",
       "      <th>mean</th>\n",
       "      <td>9.000000</td>\n",
       "      <td>7.500909</td>\n",
       "    </tr>\n",
       "    <tr>\n",
       "      <th>std</th>\n",
       "      <td>3.316625</td>\n",
       "      <td>2.031568</td>\n",
       "    </tr>\n",
       "    <tr>\n",
       "      <th>min</th>\n",
       "      <td>4.000000</td>\n",
       "      <td>4.260000</td>\n",
       "    </tr>\n",
       "    <tr>\n",
       "      <th>25%</th>\n",
       "      <td>6.500000</td>\n",
       "      <td>6.315000</td>\n",
       "    </tr>\n",
       "    <tr>\n",
       "      <th>50%</th>\n",
       "      <td>9.000000</td>\n",
       "      <td>7.580000</td>\n",
       "    </tr>\n",
       "    <tr>\n",
       "      <th>75%</th>\n",
       "      <td>11.500000</td>\n",
       "      <td>8.570000</td>\n",
       "    </tr>\n",
       "    <tr>\n",
       "      <th>max</th>\n",
       "      <td>14.000000</td>\n",
       "      <td>10.840000</td>\n",
       "    </tr>\n",
       "  </tbody>\n",
       "</table>\n",
       "</div>"
      ],
      "text/plain": [
       "               x          y\n",
       "count  11.000000  11.000000\n",
       "mean    9.000000   7.500909\n",
       "std     3.316625   2.031568\n",
       "min     4.000000   4.260000\n",
       "25%     6.500000   6.315000\n",
       "50%     9.000000   7.580000\n",
       "75%    11.500000   8.570000\n",
       "max    14.000000  10.840000"
      ]
     },
     "execution_count": 7,
     "metadata": {},
     "output_type": "execute_result"
    }
   ],
   "source": [
    "#Grupo1\n",
    "g1=df.loc[:,'grupo']=='Grupo_1'\n",
    "df_g1=df.loc[g1]\n",
    "df_g1.describe()"
   ]
  },
  {
   "cell_type": "code",
   "execution_count": 8,
   "metadata": {},
   "outputs": [
    {
     "data": {
      "text/html": [
       "<div>\n",
       "<style scoped>\n",
       "    .dataframe tbody tr th:only-of-type {\n",
       "        vertical-align: middle;\n",
       "    }\n",
       "\n",
       "    .dataframe tbody tr th {\n",
       "        vertical-align: top;\n",
       "    }\n",
       "\n",
       "    .dataframe thead th {\n",
       "        text-align: right;\n",
       "    }\n",
       "</style>\n",
       "<table border=\"1\" class=\"dataframe\">\n",
       "  <thead>\n",
       "    <tr style=\"text-align: right;\">\n",
       "      <th></th>\n",
       "      <th>x</th>\n",
       "      <th>y</th>\n",
       "    </tr>\n",
       "  </thead>\n",
       "  <tbody>\n",
       "    <tr>\n",
       "      <th>count</th>\n",
       "      <td>11.000000</td>\n",
       "      <td>11.000000</td>\n",
       "    </tr>\n",
       "    <tr>\n",
       "      <th>mean</th>\n",
       "      <td>9.000000</td>\n",
       "      <td>7.500909</td>\n",
       "    </tr>\n",
       "    <tr>\n",
       "      <th>std</th>\n",
       "      <td>3.316625</td>\n",
       "      <td>2.031657</td>\n",
       "    </tr>\n",
       "    <tr>\n",
       "      <th>min</th>\n",
       "      <td>4.000000</td>\n",
       "      <td>3.100000</td>\n",
       "    </tr>\n",
       "    <tr>\n",
       "      <th>25%</th>\n",
       "      <td>6.500000</td>\n",
       "      <td>6.695000</td>\n",
       "    </tr>\n",
       "    <tr>\n",
       "      <th>50%</th>\n",
       "      <td>9.000000</td>\n",
       "      <td>8.140000</td>\n",
       "    </tr>\n",
       "    <tr>\n",
       "      <th>75%</th>\n",
       "      <td>11.500000</td>\n",
       "      <td>8.950000</td>\n",
       "    </tr>\n",
       "    <tr>\n",
       "      <th>max</th>\n",
       "      <td>14.000000</td>\n",
       "      <td>9.260000</td>\n",
       "    </tr>\n",
       "  </tbody>\n",
       "</table>\n",
       "</div>"
      ],
      "text/plain": [
       "               x          y\n",
       "count  11.000000  11.000000\n",
       "mean    9.000000   7.500909\n",
       "std     3.316625   2.031657\n",
       "min     4.000000   3.100000\n",
       "25%     6.500000   6.695000\n",
       "50%     9.000000   8.140000\n",
       "75%    11.500000   8.950000\n",
       "max    14.000000   9.260000"
      ]
     },
     "execution_count": 8,
     "metadata": {},
     "output_type": "execute_result"
    }
   ],
   "source": [
    "g2=df.loc[:,'grupo']=='Grupo_2'\n",
    "df_g2=df.loc[g2]\n",
    "df_g2.describe()"
   ]
  },
  {
   "cell_type": "code",
   "execution_count": 9,
   "metadata": {},
   "outputs": [
    {
     "data": {
      "text/html": [
       "<div>\n",
       "<style scoped>\n",
       "    .dataframe tbody tr th:only-of-type {\n",
       "        vertical-align: middle;\n",
       "    }\n",
       "\n",
       "    .dataframe tbody tr th {\n",
       "        vertical-align: top;\n",
       "    }\n",
       "\n",
       "    .dataframe thead th {\n",
       "        text-align: right;\n",
       "    }\n",
       "</style>\n",
       "<table border=\"1\" class=\"dataframe\">\n",
       "  <thead>\n",
       "    <tr style=\"text-align: right;\">\n",
       "      <th></th>\n",
       "      <th>x</th>\n",
       "      <th>y</th>\n",
       "    </tr>\n",
       "  </thead>\n",
       "  <tbody>\n",
       "    <tr>\n",
       "      <th>count</th>\n",
       "      <td>11.000000</td>\n",
       "      <td>11.000000</td>\n",
       "    </tr>\n",
       "    <tr>\n",
       "      <th>mean</th>\n",
       "      <td>9.000000</td>\n",
       "      <td>7.500000</td>\n",
       "    </tr>\n",
       "    <tr>\n",
       "      <th>std</th>\n",
       "      <td>3.316625</td>\n",
       "      <td>2.030424</td>\n",
       "    </tr>\n",
       "    <tr>\n",
       "      <th>min</th>\n",
       "      <td>4.000000</td>\n",
       "      <td>5.390000</td>\n",
       "    </tr>\n",
       "    <tr>\n",
       "      <th>25%</th>\n",
       "      <td>6.500000</td>\n",
       "      <td>6.250000</td>\n",
       "    </tr>\n",
       "    <tr>\n",
       "      <th>50%</th>\n",
       "      <td>9.000000</td>\n",
       "      <td>7.110000</td>\n",
       "    </tr>\n",
       "    <tr>\n",
       "      <th>75%</th>\n",
       "      <td>11.500000</td>\n",
       "      <td>7.980000</td>\n",
       "    </tr>\n",
       "    <tr>\n",
       "      <th>max</th>\n",
       "      <td>14.000000</td>\n",
       "      <td>12.740000</td>\n",
       "    </tr>\n",
       "  </tbody>\n",
       "</table>\n",
       "</div>"
      ],
      "text/plain": [
       "               x          y\n",
       "count  11.000000  11.000000\n",
       "mean    9.000000   7.500000\n",
       "std     3.316625   2.030424\n",
       "min     4.000000   5.390000\n",
       "25%     6.500000   6.250000\n",
       "50%     9.000000   7.110000\n",
       "75%    11.500000   7.980000\n",
       "max    14.000000  12.740000"
      ]
     },
     "execution_count": 9,
     "metadata": {},
     "output_type": "execute_result"
    }
   ],
   "source": [
    "g3=df.loc[:,'grupo']=='Grupo_3'\n",
    "df_g3=df.loc[g3]\n",
    "df_g3.describe()"
   ]
  },
  {
   "cell_type": "code",
   "execution_count": 10,
   "metadata": {},
   "outputs": [
    {
     "data": {
      "text/html": [
       "<div>\n",
       "<style scoped>\n",
       "    .dataframe tbody tr th:only-of-type {\n",
       "        vertical-align: middle;\n",
       "    }\n",
       "\n",
       "    .dataframe tbody tr th {\n",
       "        vertical-align: top;\n",
       "    }\n",
       "\n",
       "    .dataframe thead th {\n",
       "        text-align: right;\n",
       "    }\n",
       "</style>\n",
       "<table border=\"1\" class=\"dataframe\">\n",
       "  <thead>\n",
       "    <tr style=\"text-align: right;\">\n",
       "      <th></th>\n",
       "      <th>x</th>\n",
       "      <th>y</th>\n",
       "    </tr>\n",
       "  </thead>\n",
       "  <tbody>\n",
       "    <tr>\n",
       "      <th>count</th>\n",
       "      <td>11.000000</td>\n",
       "      <td>11.000000</td>\n",
       "    </tr>\n",
       "    <tr>\n",
       "      <th>mean</th>\n",
       "      <td>9.000000</td>\n",
       "      <td>7.500909</td>\n",
       "    </tr>\n",
       "    <tr>\n",
       "      <th>std</th>\n",
       "      <td>3.316625</td>\n",
       "      <td>2.030579</td>\n",
       "    </tr>\n",
       "    <tr>\n",
       "      <th>min</th>\n",
       "      <td>8.000000</td>\n",
       "      <td>5.250000</td>\n",
       "    </tr>\n",
       "    <tr>\n",
       "      <th>25%</th>\n",
       "      <td>8.000000</td>\n",
       "      <td>6.170000</td>\n",
       "    </tr>\n",
       "    <tr>\n",
       "      <th>50%</th>\n",
       "      <td>8.000000</td>\n",
       "      <td>7.040000</td>\n",
       "    </tr>\n",
       "    <tr>\n",
       "      <th>75%</th>\n",
       "      <td>8.000000</td>\n",
       "      <td>8.190000</td>\n",
       "    </tr>\n",
       "    <tr>\n",
       "      <th>max</th>\n",
       "      <td>19.000000</td>\n",
       "      <td>12.500000</td>\n",
       "    </tr>\n",
       "  </tbody>\n",
       "</table>\n",
       "</div>"
      ],
      "text/plain": [
       "               x          y\n",
       "count  11.000000  11.000000\n",
       "mean    9.000000   7.500909\n",
       "std     3.316625   2.030579\n",
       "min     8.000000   5.250000\n",
       "25%     8.000000   6.170000\n",
       "50%     8.000000   7.040000\n",
       "75%     8.000000   8.190000\n",
       "max    19.000000  12.500000"
      ]
     },
     "execution_count": 10,
     "metadata": {},
     "output_type": "execute_result"
    }
   ],
   "source": [
    "g4=df.loc[:,'grupo']=='Grupo_4'\n",
    "df_g4=df.loc[g4]\n",
    "df_g4.describe()"
   ]
  },
  {
   "cell_type": "markdown",
   "metadata": {},
   "source": [
    "Pregunta 3"
   ]
  },
  {
   "cell_type": "code",
   "execution_count": 11,
   "metadata": {},
   "outputs": [],
   "source": [
    "#Grupo 1\n",
    "from sklearn import datasets\n",
    "from sklearn.model_selection import train_test_split\n",
    "from sklearn.linear_model import LinearRegression\n",
    "X = df_g1[['x']] # we only take the first two features.\n",
    "y = df_g1['y']\n",
    "X_train, X_test, y_train, y_test = train_test_split(X, y, test_size=0.2, random_state=42)"
   ]
  },
  {
   "cell_type": "code",
   "execution_count": 13,
   "metadata": {},
   "outputs": [],
   "source": [
    "LR1 = LinearRegression()\n",
    "LR1.fit(df_g1[['x']],df_g1['y'])\n",
    "beta_0 = round(LR1.intercept_,2)\n",
    "beta_1 = round(LR1.coef_[0],2)\n"
   ]
  },
  {
   "cell_type": "code",
   "execution_count": 14,
   "metadata": {},
   "outputs": [
    {
     "data": {
      "text/plain": [
       "array([10.00136364,  8.001     ,  6.50072727])"
      ]
     },
     "execution_count": 14,
     "metadata": {},
     "output_type": "execute_result"
    }
   ],
   "source": [
    "Y_prediction = LR1.predict(X_test)\n",
    "Y_prediction"
   ]
  },
  {
   "cell_type": "code",
   "execution_count": 15,
   "metadata": {},
   "outputs": [
    {
     "data": {
      "image/png": "[encoded data removed]",
      "text/plain": [
       "<Figure size 792x612 with 1 Axes>"
      ]
     },
     "metadata": {},
     "output_type": "display_data"
    }
   ],
   "source": [
    "beta_0 = LR1.intercept_\n",
    "beta_1 = LR1.coef_[0]\n",
    "        \n",
    "x_range = np.arange(0.1,15,0.1)\n",
    "        \n",
    "df_plot = pd.DataFrame({'x':x_range,\n",
    "                        'y_true':[beta_0 + beta_1*n for n in x_range]})\n",
    "  \n",
    "df_1 = pd.DataFrame({'x':X['x'],\n",
    "                           'y_true':y})\n",
    "        \n",
    "fig, ax = plt.subplots(figsize=(11, 8.5))\n",
    "        \n",
    "        \n",
    "sns.scatterplot(x='x', y='y_true', data=df_1, ax=ax)\n",
    "sns.lineplot(x='x', y='y_true', data=df_plot,ax=ax,color=\"red\")\n",
    "\n",
    "plt.xlabel('x')\n",
    "plt.ylabel('y')\n",
    "plt.show()"
   ]
  },
  {
   "cell_type": "code",
   "execution_count": 16,
   "metadata": {},
   "outputs": [],
   "source": [
    "#Grupo 2\n",
    "X = df_g2[['x']] # we only take the first two features.\n",
    "y = df_g2['y']\n",
    "X_train, X_test, y_train, y_test = train_test_split(X, y, test_size=0.2, random_state=42)"
   ]
  },
  {
   "cell_type": "code",
   "execution_count": 17,
   "metadata": {},
   "outputs": [],
   "source": [
    "LR2 = LinearRegression()\n",
    "LR2.fit(df_g2[['x']],df_g2['y'])\n",
    "beta_0 = round(LR2.intercept_,2)\n",
    "beta_1 = round(LR2.coef_[0],2)"
   ]
  },
  {
   "cell_type": "code",
   "execution_count": 18,
   "metadata": {},
   "outputs": [
    {
     "data": {
      "text/plain": [
       "array([10.00090909,  8.00090909,  6.50090909])"
      ]
     },
     "execution_count": 18,
     "metadata": {},
     "output_type": "execute_result"
    }
   ],
   "source": [
    "Y_prediction = LR2.predict(X_test)\n",
    "Y_prediction"
   ]
  },
  {
   "cell_type": "code",
   "execution_count": 19,
   "metadata": {},
   "outputs": [
    {
     "data": {
      "image/png": "[encoded data removed]",
      "text/plain": [
       "<Figure size 792x612 with 1 Axes>"
      ]
     },
     "metadata": {},
     "output_type": "display_data"
    }
   ],
   "source": [
    "beta_0 = LR2.intercept_\n",
    "beta_1 = LR2.coef_[0]\n",
    "        \n",
    "x_range = np.arange(0.1,15,0.1)\n",
    "        \n",
    "df_plot = pd.DataFrame({'x':x_range,\n",
    "                        'y_true':[beta_0 + beta_1*n for n in x_range]})\n",
    "  \n",
    "df_2 = pd.DataFrame({'x':X['x'],\n",
    "                           'y_true':y})\n",
    "        \n",
    "fig, ax = plt.subplots(figsize=(11, 8.5))\n",
    "        \n",
    "        \n",
    "sns.scatterplot(x='x',\n",
    "                y='y_true',\n",
    "                data=df_2, \n",
    "                ax=ax)\n",
    "\n",
    "sns.lineplot(x='x', y='y_true', data=df_plot,ax=ax,color=\"green\")\n",
    "\n",
    "plt.xlabel('x')\n",
    "plt.ylabel('y')\n",
    "plt.show()"
   ]
  },
  {
   "cell_type": "code",
   "execution_count": 20,
   "metadata": {},
   "outputs": [],
   "source": [
    "#Grupo 3\n",
    "X = df_g3[['x']] \n",
    "y = df_g3['y']\n",
    "X_train, X_test, y_train, y_test = train_test_split(X, y, test_size=0.2, random_state=42)"
   ]
  },
  {
   "cell_type": "code",
   "execution_count": 21,
   "metadata": {},
   "outputs": [],
   "source": [
    "LR3 = LinearRegression()\n",
    "LR3.fit(df_g3[['x']],df_g3['y'])\n",
    "beta_0 = round(LR3.intercept_,2)\n",
    "beta_1 = round(LR3.coef_[0],2)"
   ]
  },
  {
   "cell_type": "code",
   "execution_count": 22,
   "metadata": {},
   "outputs": [
    {
     "data": {
      "text/plain": [
       "array([9.99863636, 7.99972727, 6.50054545])"
      ]
     },
     "execution_count": 22,
     "metadata": {},
     "output_type": "execute_result"
    }
   ],
   "source": [
    "Y_prediction = LR3.predict(X_test)\n",
    "Y_prediction"
   ]
  },
  {
   "cell_type": "code",
   "execution_count": 23,
   "metadata": {},
   "outputs": [
    {
     "data": {
      "image/png": "[encoded data removed]",
      "text/plain": [
       "<Figure size 792x612 with 1 Axes>"
      ]
     },
     "metadata": {},
     "output_type": "display_data"
    }
   ],
   "source": [
    "beta_0 = LR3.intercept_\n",
    "beta_1 = LR3.coef_[0]\n",
    "        \n",
    "x_range = np.arange(0.1,15,0.1)\n",
    "        \n",
    "df_plot = pd.DataFrame({'x':x_range,\n",
    "                        'y_true':[beta_0 + beta_1*n for n in x_range]})\n",
    "  \n",
    "df_2 = pd.DataFrame({'x':X['x'],\n",
    "                           'y_true':y})\n",
    "        \n",
    "fig, ax = plt.subplots(figsize=(11, 8.5))\n",
    "        \n",
    "        \n",
    "sns.scatterplot(x='x',\n",
    "                y='y_true',\n",
    "                data=df_2, \n",
    "                ax=ax)\n",
    "\n",
    "sns.lineplot(x='x', y='y_true', data=df_plot,ax=ax,color=\"y\")\n",
    "\n",
    "plt.xlabel('x')\n",
    "plt.ylabel('y')\n",
    "plt.show()"
   ]
  },
  {
   "cell_type": "code",
   "execution_count": 24,
   "metadata": {},
   "outputs": [],
   "source": [
    "#Grupo4\n",
    "X = df_g4[['x']] \n",
    "y = df_g4['y']\n",
    "X_train, X_test, y_train, y_test = train_test_split(X, y)"
   ]
  },
  {
   "cell_type": "code",
   "execution_count": 45,
   "metadata": {},
   "outputs": [],
   "source": [
    "LR4 = LinearRegression()\n",
    "LR4.fit(df_g4[['x']],df_g4['y'])\n",
    "beta_0 = round(LR4.intercept_,2)\n",
    "beta_1 = round(LR4.coef_[0],2)"
   ]
  },
  {
   "cell_type": "code",
   "execution_count": 46,
   "metadata": {},
   "outputs": [
    {
     "data": {
      "text/plain": [
       "array([6.50109091, 7.001     ])"
      ]
     },
     "execution_count": 46,
     "metadata": {},
     "output_type": "execute_result"
    }
   ],
   "source": [
    "Y_prediction = LR4.predict(X_test)\n",
    "Y_prediction"
   ]
  },
  {
   "cell_type": "code",
   "execution_count": 47,
   "metadata": {},
   "outputs": [
    {
     "data": {
      "image/png": "[encoded data removed]",
      "text/plain": [
       "<Figure size 792x612 with 1 Axes>"
      ]
     },
     "metadata": {},
     "output_type": "display_data"
    }
   ],
   "source": [
    "beta_0 = LR4.intercept_\n",
    "beta_1 = LR4.coef_[0]\n",
    "        \n",
    "x_range = np.arange(0.1,15,0.1)\n",
    "        \n",
    "df_plot = pd.DataFrame({'x':x_range,\n",
    "                        'y_true':[beta_0 + beta_1*n for n in x_range]})\n",
    "  \n",
    "df_2 = pd.DataFrame({'x':X['x'],\n",
    "                           'y_true':y})\n",
    "        \n",
    "fig, ax = plt.subplots(figsize=(11, 8.5))\n",
    "        \n",
    "        \n",
    "sns.scatterplot(x='x',\n",
    "                y='y_true',\n",
    "                data=df_2, \n",
    "                ax=ax)\n",
    "\n",
    "sns.lineplot(x='x', y='y_true', data=df_plot,ax=ax,color=\"b\")\n",
    "\n",
    "plt.xlabel('x')\n",
    "plt.ylabel('y')\n",
    "plt.show()"
   ]
  },
  {
   "cell_type": "markdown",
   "metadata": {},
   "source": [
    "Basado en las gráficas, es posible ver que, en cuanto a la gráfio 1 existe una tendencia lineal de los datos. Respecto a 2, evidentemente la regresión lineal no se ajusta a la tendencia de los datos, los cuales se rigen por una dispersión cuadrática. En 3, la tendencia es lineal, solo que hay un elemento sucio que inclina la recta en dirección al eje y. En cuanto a 4, la tendencia es vertical a lo largo de la recta x=8 existiendo un dato sucio que inclina la recta sobre el eje x."
   ]
  },
  {
   "cell_type": "markdown",
   "metadata": {},
   "source": [
    "PREGUNTA 4"
   ]
  },
  {
   "cell_type": "code",
   "execution_count": 29,
   "metadata": {},
   "outputs": [
    {
     "name": "stdout",
     "output_type": "stream",
     "text": [
      "      mae     mse    rmse    mape  maape   wmape   mmape   smape      r2\n",
      "0  0.8374  1.2512  1.1185  0.1213  0.119  0.1116  0.1048  0.1167  0.6665\n"
     ]
    }
   ],
   "source": [
    "#Grupo 1\n",
    "from metrics_regression import *\n",
    "from sklearn.metrics import r2_score\n",
    "df_temp_1 = pd.DataFrame(\n",
    "    {\n",
    "        'y':df_g1['y'],\n",
    "        'yhat': LR1.predict(df_g1[['x']])\n",
    "        }\n",
    ")\n",
    "\n",
    "df_metrics_1 = summary_metrics(df_temp_1)\n",
    "df_metrics_1['r2'] =  round(r2_score(df_g1['y'], LR1.predict(df_g1[['x']])),4)\n",
    "print(df_metrics_1)"
   ]
  },
  {
   "cell_type": "code",
   "execution_count": 30,
   "metadata": {},
   "outputs": [
    {
     "name": "stdout",
     "output_type": "stream",
     "text": [
      "      mae     mse    rmse   mape   maape  wmape   mmape   smape      r2\n",
      "0  0.9679  1.2524  1.1191  0.157  0.1504  0.129  0.1315  0.1438  0.6662\n"
     ]
    }
   ],
   "source": [
    "#Grupo 2\n",
    "df_temp_2 = pd.DataFrame(\n",
    "    {\n",
    "        'y':df_g2['y'],\n",
    "        'yhat': LR2.predict(df_g2[['x']])\n",
    "        }\n",
    ")\n",
    "\n",
    "df_metrics_2 = summary_metrics(df_temp_2)\n",
    "df_metrics_2['r2'] =  round(r2_score(df_g2['y'], LR2.predict(df_g2[['x']])),4)\n",
    "print(df_metrics_2)"
   ]
  },
  {
   "cell_type": "code",
   "execution_count": 31,
   "metadata": {},
   "outputs": [
    {
     "name": "stdout",
     "output_type": "stream",
     "text": [
      "     mae     mse    rmse    mape   maape   wmape   mmape   smape      r2\n",
      "0  0.716  1.2506  1.1183  0.0797  0.0791  0.0955  0.0712  0.0814  0.6663\n"
     ]
    }
   ],
   "source": [
    "#grupo 3\n",
    "df_temp_3 = pd.DataFrame(\n",
    "    {\n",
    "        'y':df_g3['y'],\n",
    "        'yhat': LR3.predict(df_g3[['x']])\n",
    "        }\n",
    ")\n",
    "\n",
    "df_metrics_3 = summary_metrics(df_temp_3)\n",
    "df_metrics_3['r2'] =  round(r2_score(df_g3['y'], LR3.predict(df_g3[['x']])),4)\n",
    "print(df_metrics_3)"
   ]
  },
  {
   "cell_type": "code",
   "execution_count": 48,
   "metadata": {},
   "outputs": [
    {
     "name": "stdout",
     "output_type": "stream",
     "text": [
      "      mae     mse    rmse    mape   maape   wmape   mmape   smape      r2\n",
      "0  0.9027  1.2493  1.1177  0.1347  0.1324  0.1203  0.1167  0.1303  0.6667\n"
     ]
    }
   ],
   "source": [
    "#grupo 4\n",
    "df_temp_4 = pd.DataFrame(\n",
    "    {\n",
    "        'y':df_g4['y'],\n",
    "        'yhat': LR4.predict(df_g4[['x']])\n",
    "        }\n",
    ")\n",
    "\n",
    "df_metrics_4 = summary_metrics(df_temp_4)\n",
    "df_metrics_4['r2'] =  round(r2_score(df_g4['y'], LR4.predict(df_g4[['x']])),4)\n",
    "print(df_metrics_4)"
   ]
  },
  {
   "cell_type": "markdown",
   "metadata": {},
   "source": [
    "En cuanto a las métricas, es posible verificar que la tendencia lineal representa de buena forma la dispersión de los datos, dado que su coeficiente de relalción, si bien ronda el valor 0,6, refleja una concordancia entre la recta entregada por la regresión y la tendencia de los datos. Este difiere de la interpretación obtenida de los gráficos en el inciso n°4."
   ]
  },
  {
   "cell_type": "markdown",
   "metadata": {},
   "source": [
    "PREGUNTA 5"
   ]
  },
  {
   "cell_type": "markdown",
   "metadata": {},
   "source": [
    "En el grupo 1 no se tocará ya que dado la gráfica en 3 y las métricas en 4, se comporta de buena manera a una tendencia lineal. En 3 y 4 quitaremos los datos que se alejan de la linea de tendencia y veremos que sucede."
   ]
  },
  {
   "cell_type": "code",
   "execution_count": 41,
   "metadata": {},
   "outputs": [],
   "source": [
    "#se borran datos sucios\n",
    "df_g3_2=df_g3.drop([24])\n",
    "df_g4_2=df_g4.drop([40])"
   ]
  },
  {
   "cell_type": "code",
   "execution_count": 50,
   "metadata": {},
   "outputs": [],
   "source": [
    "#Nuevo 3\n",
    "X = df_g3_2[['x']] \n",
    "y = df_g3_2['y']\n",
    "X_train, X_test, y_train, y_test = train_test_split(X, y, test_size=0.2, random_state=42)"
   ]
  },
  {
   "cell_type": "code",
   "execution_count": 53,
   "metadata": {},
   "outputs": [],
   "source": [
    "LR3_2 = LinearRegression()\n",
    "LR3_2.fit(df_g3_2[['x']],df_g3_2['y'])\n",
    "beta_0 = round(LR3_2.intercept_,2)\n",
    "beta_1 = round(LR3_2.coef_[0],2)"
   ]
  },
  {
   "cell_type": "code",
   "execution_count": 54,
   "metadata": {},
   "outputs": [
    {
     "data": {
      "text/plain": [
       "array([6.42337662, 6.76876623])"
      ]
     },
     "execution_count": 54,
     "metadata": {},
     "output_type": "execute_result"
    }
   ],
   "source": [
    "Y_prediction = LR3_2.predict(X_test)\n",
    "Y_prediction"
   ]
  },
  {
   "cell_type": "code",
   "execution_count": 55,
   "metadata": {},
   "outputs": [
    {
     "data": {
      "image/png": "[encoded data removed]",
      "text/plain": [
       "<Figure size 792x612 with 1 Axes>"
      ]
     },
     "metadata": {},
     "output_type": "display_data"
    }
   ],
   "source": [
    "beta_0 = LR3_2.intercept_\n",
    "beta_1 = LR3_2.coef_[0]\n",
    "        \n",
    "x_range = np.arange(0.1,15,0.1)\n",
    "        \n",
    "df_plot = pd.DataFrame({'x':x_range,\n",
    "                        'y_true':[beta_0 + beta_1*n for n in x_range]})\n",
    "  \n",
    "df_3_2 = pd.DataFrame({'x':X['x'],\n",
    "                           'y_true':y})\n",
    "        \n",
    "fig, ax = plt.subplots(figsize=(11, 8.5))\n",
    "        \n",
    "        \n",
    "sns.scatterplot(x='x',\n",
    "                y='y_true',\n",
    "                data=df_3_2, \n",
    "                ax=ax)\n",
    "\n",
    "sns.lineplot(x='x', y='y_true', data=df_plot,ax=ax,color=\"b\")\n",
    "\n",
    "plt.xlabel('x')\n",
    "plt.ylabel('y')\n",
    "plt.show()"
   ]
  },
  {
   "cell_type": "code",
   "execution_count": 56,
   "metadata": {},
   "outputs": [
    {
     "name": "stdout",
     "output_type": "stream",
     "text": [
      "      mae  mse    rmse    mape   maape   wmape   mmape   smape   r2\n",
      "0  0.0023  0.0  0.0028  0.0003  0.0003  0.0003  0.0003  0.0003  1.0\n"
     ]
    }
   ],
   "source": [
    "#metricas\n",
    "df_temp_3_2 = pd.DataFrame(\n",
    "    {\n",
    "        'y':df_g3_2['y'],\n",
    "        'yhat': LR3_2.predict(df_g3_2[['x']])\n",
    "        }\n",
    ")\n",
    "\n",
    "df_metrics_3_2 = summary_metrics(df_temp_3_2)\n",
    "df_metrics_3_2['r2'] =  round(r2_score(df_g3_2['y'], LR3_2.predict(df_g3_2[['x']])),4)\n",
    "print(df_metrics_3_2)"
   ]
  },
  {
   "cell_type": "code",
   "execution_count": 63,
   "metadata": {},
   "outputs": [
    {
     "data": {
      "text/plain": [
       "<AxesSubplot:xlabel='x', ylabel='y'>"
      ]
     },
     "execution_count": 63,
     "metadata": {},
     "output_type": "execute_result"
    },
    {
     "data": {
      "image/png": "[encoded data removed]",
      "text/plain": [
       "<Figure size 842.4x595.44 with 1 Axes>"
      ]
     },
     "metadata": {},
     "output_type": "display_data"
    }
   ],
   "source": [
    "#gráfica 4 nuevo\n",
    "sns.scatterplot(x='x', y='y', data=df_g4_2)"
   ]
  },
  {
   "cell_type": "markdown",
   "metadata": {},
   "source": [
    "Notamos que al quitar el dato sucio a grupo 3, la linea de tendencia de los datos es perfecta lo cual queda demostrado tanto gráficamente como en las metricas, donde R^2 es igual a 1. En tanto, con respecto a grupo 4, es trivial notar que la tendencia de los datos sigue la recta x=8. Con respecto a grupo 2, es posible ajustar el modelo a uno cuadrático, dado que a distribución de los datos tiende a ser parabólica"
   ]
  }
 ],
 "metadata": {
  "kernelspec": {
   "display_name": "Python 3",
   "language": "python",
   "name": "python3"
  },
  "language_info": {
   "codemirror_mode": {
    "name": "ipython",
    "version": 3
   },
   "file_extension": ".py",
   "mimetype": "text/x-python",
   "name": "python",
   "nbconvert_exporter": "python",
   "pygments_lexer": "ipython3",
   "version": "3.7.8"
  }
 },
 "nbformat": 4,
 "nbformat_minor": 4
}
