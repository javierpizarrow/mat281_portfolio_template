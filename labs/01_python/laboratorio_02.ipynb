{
 "cells": [
  {
   "cell_type": "markdown",
   "metadata": {},
   "source": [
    "<img src=\"images/usm.jpg\" width=\"480\" height=\"240\" align=\"left\"/>"
   ]
  },
  {
   "cell_type": "markdown",
   "metadata": {},
   "source": [
    "# MAT281 - Laboratorio N°02\n",
    "\n",
    "## Objetivos de la clase\n",
    "\n",
    "* Reforzar los conceptos básicos de numpy."
   ]
  },
  {
   "cell_type": "markdown",
   "metadata": {},
   "source": [
    "## Contenidos\n",
    "\n",
    "* [Problema 01](#p1)\n",
    "* [Problema 02](#p2)\n",
    "* [Problema 03](#p3)"
   ]
  },
  {
   "cell_type": "markdown",
   "metadata": {},
   "source": [
    "<a id='p1'></a>\n",
    "\n",
    "## Problema 01\n",
    "\n",
    "Una **media móvil simple** (SMA) es el promedio de los últimos $k$ datos anteriores, es decir, sea $a_1$,$a_2$,...,$a_n$ un arreglo $n$-dimensional, entonces la SMA se define por:\n",
    "\n",
    "$$sma(k) =\\dfrac{1}{k}(a_{n}+a_{n-1}+...+a_{n-(k-1)}) = \\dfrac{1}{k}\\sum_{i=0}^{k-1}a_{n-i}  $$ \n",
    "\n",
    "\n",
    "Por otro lado podemos definir el SMA con una venta móvil de $n$ si el resultado nos retorna la el promedio ponderado avanzando de la siguiente forma:\n",
    "\n",
    "* $a = [1,2,3,4,5]$, la SMA con una ventana de $n=2$ sería:\n",
    "\n",
    "\n",
    "    * sma(2): [mean(1,2),mean(2,3),mean(3,4)] = [1.5, 2.5, 3.5, 4.5]\n",
    "    * sma(3): [mean(1,2,3),mean(2,3,4),mean(3,4,5)] = [2.,3.,4.]\n",
    "\n",
    "\n",
    "Implemente una función llamada `sma` cuyo input sea un arreglo unidimensional $a$ y un entero $n$, y cuyo ouput retorne el valor de la media móvil simple sobre el arreglo de la siguiente forma:\n",
    "\n",
    "* **Ejemplo**: *sma([5,3,8,10,2,1,5,1,0,2], 2)* = $[4. , 5.5, 9. , 6. , 1.5, 3. , 3. , 0.5, 1. ]$\n",
    "\n",
    "En este caso, se esta calculando el SMA para un arreglo con una ventana de $n=2$.\n",
    "\n",
    "**Hint**: utilice la función `numpy.cumsum`"
   ]
  },
  {
   "cell_type": "code",
   "execution_count": 1,
   "metadata": {},
   "outputs": [],
   "source": [
    "# importar libreria: numpy\n",
    "import numpy as np\n",
    "import time\n",
    "import sys"
   ]
  },
  {
   "cell_type": "code",
   "execution_count": 23,
   "metadata": {},
   "outputs": [],
   "source": [
    "def sma(a:np.array,n:int):\n",
    "    suma=np.cumsum(a)#arreglo de sumas progresivas\n",
    "    lista=[]\n",
    "    d=0\n",
    "    for i in suma:\n",
    "        if d>=n-1:\n",
    "            if d==n-1:\n",
    "                lista.append(i/n)#cuando la posición en el arreglo es igual a n-1, se incluye el promedio a la lista de salida\n",
    "            else:\n",
    "                lista.append((i-suma[d-n])/n)#cuando la posición en el arreglo es mayor a n-1, se incluye el pro\n",
    "        d=d+1\n",
    "                             \n",
    "    return(np.array(lista))\n"
   ]
  },
  {
   "cell_type": "markdown",
   "metadata": {},
   "source": [
    "<a id='p2'></a>\n",
    "\n",
    "## Problema 02\n",
    "\n",
    "La función **strides($a,n,p$)**, corresponde a transformar un arreglo unidimensional $a$ en una matriz de $n$ columnas, en el cual las filas se van construyendo desfasando la posición del arreglo en $p$ pasos hacia adelante.\n",
    "\n",
    "* Para el arreglo unidimensional $a$ = [ 1,  2,  3,  4,  5,  6,  7,  8,  9, 10], la función strides($a,4,2$), corresponde a crear una matriz de $4$ columnas, cuyos desfaces hacia adelante se hacen de dos en dos. \n",
    "\n",
    "El resultado tendría que ser algo así:$$\\begin{pmatrix}\n",
    " 1& 2 &3 &4 \\\\ \n",
    " 3&  4&5&6 \\\\ \n",
    " 5& 6 &7 &8 \\\\ \n",
    " 7& 8 &9 &10 \\\\ \n",
    "\\end{pmatrix}$$\n",
    "\n",
    "\n",
    "Implemente una función llamada `strides(a,4,2)` cuyo input sea un arreglo unidimensional y retorne la matriz de $4$ columnas, cuyos desfaces hacia adelante se hacen de dos en dos. \n",
    "\n",
    "* **Ejemplo**: *strides($a$,4,2)* =$\\begin{pmatrix}\n",
    " 1& 2 &3 &4 \\\\ \n",
    " 3&  4&5&6 \\\\ \n",
    " 5& 6 &7 &8 \\\\ \n",
    " 7& 8 &9 &10 \\\\ \n",
    "\\end{pmatrix}$\n"
   ]
  },
  {
   "cell_type": "code",
   "execution_count": 24,
   "metadata": {},
   "outputs": [],
   "source": [
    "def strides(a:np.array):\n",
    "    matriz=np.zeros((4,4))#matriz de ceros, que será cambiada por los valores pedidos\n",
    "    lista1=[]\n",
    "    lista2=[]\n",
    "    lista3=[]\n",
    "    lista4=[]\n",
    "    for i in range(len(a)):\n",
    "        lista_i=[]\n",
    "        if 0<=i<=3:\n",
    "            lista1.append(a[i]) #si la posición en la lista corresponde a 0,1,2 o 3 se incluye en la primera lista\n",
    "        if 2<=i<=5:\n",
    "            lista2.append(a[i])#si la posición--- --- ---- --- -- ----\n",
    "        if 4<=i<=7:\n",
    "            lista3.append(a[i])\n",
    "        if 6<=i<=9:\n",
    "            lista4.append(a[i])\n",
    "        \n",
    "    matriz[0]=lista1#se introducen las filas a la matriz\n",
    "    matriz[1]=lista2#se introducen las filas a la matriz\n",
    "    matriz[2]=lista3#se introducen las filas a la matriz\n",
    "    matriz[3]=lista4#se introducen las filas a la matriz\n",
    "    return(matriz)"
   ]
  },
  {
   "cell_type": "markdown",
   "metadata": {},
   "source": [
    "<a id='p3'></a>\n",
    "\n",
    "## Problema 03\n",
    "\n",
    "\n",
    "Un **cuadrado mágico** es una matriz de tamaño $n \\times n$ de números enteros positivos tal que \n",
    "la suma de los números por columnas, filas y diagonales principales sea la misma. Usualmente, los números empleados para rellenar las casillas son consecutivos, de 1 a $n^2$, siendo $n$ el número de columnas y filas del cuadrado mágico.\n",
    "\n",
    "Si los números son consecutivos de 1 a $n^2$, la suma de los números por columnas, filas y diagonales principales \n",
    "es igual a : $$M_{n} = \\dfrac{n(n^2+1)}{2}$$\n",
    "Por ejemplo, \n",
    "\n",
    "* $A= \\begin{pmatrix}\n",
    " 4& 9 &2 \\\\ \n",
    " 3&  5&7 \\\\ \n",
    " 8& 1 &6 \n",
    "\\end{pmatrix}$,\n",
    "es un cuadrado mágico.\n",
    "\n",
    "* $B= \\begin{pmatrix}\n",
    " 4& 2 &9 \\\\ \n",
    " 3&  5&7 \\\\ \n",
    " 8& 1 &6 \n",
    "\\end{pmatrix}$, no es un cuadrado mágico.\n",
    "\n",
    "Implemente una función llamada `es_cudrado_magico` cuyo input sea una matriz cuadrada de tamaño $n$ con números consecutivos de $1$ a $n^2$ y cuyo ouput retorne *True* si es un cuadrado mágico o 'False', en caso contrario\n",
    "\n",
    "* **Ejemplo**: *es_cudrado_magico($A$)* = True, *es_cudrado_magico($B$)* = False\n",
    "\n",
    "**Hint**: Cree una función que valide la mariz es cuadrada y  que sus números son consecutivos del 1 a $n^2$."
   ]
  },
  {
   "cell_type": "code",
   "execution_count": 4,
   "metadata": {},
   "outputs": [],
   "source": [
    "def consecutivos(A:np.array):# función que verifica que los numeros que componen la matriz son consecutivos\n",
    "    n=len(A)\n",
    "    consec=np.arange(n*n)+1\n",
    "    aux=0\n",
    "    for i in consec:\n",
    "        if i in A:\n",
    "            aux+=1\n",
    "    if aux==n*n:\n",
    "        return(True)\n",
    "    else:\n",
    "        return(False)"
   ]
  },
  {
   "cell_type": "code",
   "execution_count": 25,
   "metadata": {},
   "outputs": [],
   "source": [
    "def sum_diag_2(A:np.array):#suma de la diagonal compuesta por las posiciones 1n,2n-1,.....,n1\n",
    "    n=len(A)\n",
    "    B=np.zeros((n,n))\n",
    "    B[0]=A[2]\n",
    "    B[1]=A[1]\n",
    "    B[2]=A[0]\n",
    "    suma=np.trace(B)\n",
    "    return(suma)"
   ]
  },
  {
   "cell_type": "code",
   "execution_count": 16,
   "metadata": {},
   "outputs": [],
   "source": [
    "def filas(A:np.array):#suma de filas y verificación de igualdad\n",
    "    n=len(A)\n",
    "    f1=0\n",
    "    f2=0\n",
    "    f3=0\n",
    "    for i in range(n):\n",
    "        for j in range(n):\n",
    "            if i==0:\n",
    "                f1+=A[i,j]\n",
    "            if i==1:\n",
    "                f2+=A[i,j]\n",
    "            if i==2:\n",
    "                f3+=A[i,j]\n",
    "    if f1==f2==f3:\n",
    "        return(f1)\n",
    "    else:\n",
    "        return(False)"
   ]
  },
  {
   "cell_type": "code",
   "execution_count": 15,
   "metadata": {},
   "outputs": [],
   "source": [
    "def columnas(A:np.array):#suma de columnas y verificación de igualdad\n",
    "    n=len(A)\n",
    "    c1=0\n",
    "    c2=0\n",
    "    c3=0\n",
    "    for j in range(n):\n",
    "        for i in range(n):\n",
    "            if j==0:\n",
    "                c1+=A[i,j]\n",
    "            if j==1:\n",
    "                c2+=A[i,j]\n",
    "            if j==2:\n",
    "                c3+=A[i,j]\n",
    "    if c1==c2==c3:\n",
    "        return(c1)\n",
    "    else:\n",
    "        return(False)"
   ]
  },
  {
   "cell_type": "code",
   "execution_count": 20,
   "metadata": {},
   "outputs": [],
   "source": [
    "def es_cuadrado_magico(A:np.array):\n",
    "    if consecutivos(A)==True:\n",
    "        if np.trace(A)==sum_diag_2(A):\n",
    "            if np.trace(A)==filas(A)==columnas(A):\n",
    "                return(True)\n",
    "            else:\n",
    "                return(False)\n",
    "            \n",
    "        else:\n",
    "            return(False)\n",
    "    else:\n",
    "        return(False)"
   ]
  }
 ],
 "metadata": {
  "kernelspec": {
   "display_name": "Python 3",
   "language": "python",
   "name": "python3"
  },
  "language_info": {
   "codemirror_mode": {
    "name": "ipython",
    "version": 3
   },
   "file_extension": ".py",
   "mimetype": "text/x-python",
   "name": "python",
   "nbconvert_exporter": "python",
   "pygments_lexer": "ipython3",
   "version": "3.7.8"
  }
 },
 "nbformat": 4,
 "nbformat_minor": 4
}
